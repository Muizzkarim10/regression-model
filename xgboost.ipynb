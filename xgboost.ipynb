{
 "cells": [
  {
   "cell_type": "code",
   "execution_count": 2,
   "id": "ab145219",
   "metadata": {},
   "outputs": [],
   "source": [
    "import pandas as pd\n",
    "from sklearn.model_selection import train_test_split\n",
    "from sklearn.preprocessing import StandardScaler\n",
    "from sklearn.linear_model import LogisticRegression\n",
    "from xgboost import XGBClassifier\n",
    "from sklearn.metrics import accuracy_score, classification_report"
   ]
  },
  {
   "cell_type": "code",
   "execution_count": 3,
   "id": "d43d5151",
   "metadata": {},
   "outputs": [
    {
     "name": "stdout",
     "output_type": "stream",
     "text": [
      "Remaining rows after dropping missing values: 12869\n",
      "Total missing values: 0\n"
     ]
    }
   ],
   "source": [
    "# === Step 1: Load Data ===\n",
    "df = pd.read_excel(\"Horse_List_10_Jul_2025.xlsx\")\n",
    "\n",
    "# Extract target columns (last 11)\n",
    "target_df = df.iloc[:, -11:]\n",
    "target_df.to_csv(\"target_columns.csv\", index=False)\n",
    "target_cols = target_df.columns.tolist()\n",
    "\n",
    "# Keep only numerical features\n",
    "df = df.select_dtypes(include='number')\n",
    "\n",
    "# Drop columns with more than 50% missing values\n",
    "threshold = 0.5 * len(df)\n",
    "df = df.dropna(axis=1, thresh=len(df) - threshold)\n",
    "\n",
    "# Drop specific unwanted columns\n",
    "if 'SPW' in df.columns:\n",
    "    df = df.drop(columns=['SPW'])\n",
    "\n",
    "# Drop rows with any missing values\n",
    "df = df.dropna()\n",
    "\n",
    "print(\"Remaining rows after dropping missing values:\", len(df))\n",
    "print(\"Total missing values:\", df.isna().sum().sum())"
   ]
  },
  {
   "cell_type": "code",
   "execution_count": 4,
   "id": "cac03971",
   "metadata": {},
   "outputs": [],
   "source": [
    "X = df.drop(columns=target_cols)\n",
    "y = df[target_cols]"
   ]
  },
  {
   "cell_type": "code",
   "execution_count": 9,
   "id": "7ea4785e",
   "metadata": {},
   "outputs": [],
   "source": [
    "# Sanitize column names to remove invalid characters for XGBoost\n",
    "X.columns = [col.replace('[', '')\n",
    "                  .replace(']', '')\n",
    "                  .replace('<', '')\n",
    "                  .replace('>', '')\n",
    "                  .replace(' ', '_') for col in X.columns]\n",
    "\n",
    "# Sanitize feature column names\n",
    "X.columns = [col.replace('[', '')\n",
    "                  .replace(']', '')\n",
    "                  .replace('<', '')\n",
    "                  .replace('>', '')\n",
    "                  .replace(' ', '_') for col in X.columns]\n"
   ]
  },
  {
   "cell_type": "code",
   "execution_count": 10,
   "id": "cb342763",
   "metadata": {},
   "outputs": [],
   "source": [
    "X_train, X_test, y_train, y_test = train_test_split(X, y, test_size=0.2, random_state=42)\n",
    "\n",
    "scaler = StandardScaler()\n",
    "X_train_scaled = scaler.fit_transform(X_train)\n",
    "X_test_scaled = scaler.transform(X_test)"
   ]
  },
  {
   "cell_type": "code",
   "execution_count": 11,
   "id": "dbc918b5",
   "metadata": {},
   "outputs": [],
   "source": [
    "logreg_accuracy = {}\n",
    "xgb_accuracy = {}\n",
    "\n",
    "logreg_reports = {}\n",
    "xgb_reports = {}\n"
   ]
  },
  {
   "cell_type": "code",
   "execution_count": 12,
   "id": "1ebbe489",
   "metadata": {},
   "outputs": [
    {
     "name": "stdout",
     "output_type": "stream",
     "text": [
      "Training for target: Win Today\n"
     ]
    },
    {
     "name": "stderr",
     "output_type": "stream",
     "text": [
      "/home/zoro/anaconda3/envs/penv/lib/python3.13/site-packages/xgboost/training.py:183: UserWarning: [18:23:18] WARNING: /workspace/src/learner.cc:738: \n",
      "Parameters: { \"use_label_encoder\" } are not used.\n",
      "\n",
      "  bst.update(dtrain, iteration=i, fobj=obj)\n"
     ]
    },
    {
     "name": "stdout",
     "output_type": "stream",
     "text": [
      "Training for target: Place Today\n"
     ]
    },
    {
     "name": "stderr",
     "output_type": "stream",
     "text": [
      "/home/zoro/anaconda3/envs/penv/lib/python3.13/site-packages/xgboost/training.py:183: UserWarning: [18:23:21] WARNING: /workspace/src/learner.cc:738: \n",
      "Parameters: { \"use_label_encoder\" } are not used.\n",
      "\n",
      "  bst.update(dtrain, iteration=i, fobj=obj)\n"
     ]
    },
    {
     "name": "stdout",
     "output_type": "stream",
     "text": [
      "Training for target: Unplace Today\n"
     ]
    },
    {
     "name": "stderr",
     "output_type": "stream",
     "text": [
      "/home/zoro/anaconda3/envs/penv/lib/python3.13/site-packages/xgboost/training.py:183: UserWarning: [18:23:23] WARNING: /workspace/src/learner.cc:738: \n",
      "Parameters: { \"use_label_encoder\" } are not used.\n",
      "\n",
      "  bst.update(dtrain, iteration=i, fobj=obj)\n"
     ]
    },
    {
     "name": "stdout",
     "output_type": "stream",
     "text": [
      "Training for target: WIN NEXT START\n"
     ]
    },
    {
     "name": "stderr",
     "output_type": "stream",
     "text": [
      "/home/zoro/anaconda3/envs/penv/lib/python3.13/site-packages/xgboost/training.py:183: UserWarning: [18:23:26] WARNING: /workspace/src/learner.cc:738: \n",
      "Parameters: { \"use_label_encoder\" } are not used.\n",
      "\n",
      "  bst.update(dtrain, iteration=i, fobj=obj)\n"
     ]
    },
    {
     "name": "stdout",
     "output_type": "stream",
     "text": [
      "Training for target: WIN 2nd START\n"
     ]
    },
    {
     "name": "stderr",
     "output_type": "stream",
     "text": [
      "/home/zoro/anaconda3/envs/penv/lib/python3.13/site-packages/xgboost/training.py:183: UserWarning: [18:23:29] WARNING: /workspace/src/learner.cc:738: \n",
      "Parameters: { \"use_label_encoder\" } are not used.\n",
      "\n",
      "  bst.update(dtrain, iteration=i, fobj=obj)\n"
     ]
    },
    {
     "name": "stdout",
     "output_type": "stream",
     "text": [
      "Training for target: WIN 3rd START\n"
     ]
    },
    {
     "name": "stderr",
     "output_type": "stream",
     "text": [
      "/home/zoro/anaconda3/envs/penv/lib/python3.13/site-packages/xgboost/training.py:183: UserWarning: [18:23:32] WARNING: /workspace/src/learner.cc:738: \n",
      "Parameters: { \"use_label_encoder\" } are not used.\n",
      "\n",
      "  bst.update(dtrain, iteration=i, fobj=obj)\n"
     ]
    },
    {
     "name": "stdout",
     "output_type": "stream",
     "text": [
      "Training for target: WIN 4th START\n"
     ]
    },
    {
     "name": "stderr",
     "output_type": "stream",
     "text": [
      "/home/zoro/anaconda3/envs/penv/lib/python3.13/site-packages/xgboost/training.py:183: UserWarning: [18:23:35] WARNING: /workspace/src/learner.cc:738: \n",
      "Parameters: { \"use_label_encoder\" } are not used.\n",
      "\n",
      "  bst.update(dtrain, iteration=i, fobj=obj)\n"
     ]
    },
    {
     "name": "stdout",
     "output_type": "stream",
     "text": [
      "Training for target: PLACE NEXT START\n"
     ]
    },
    {
     "name": "stderr",
     "output_type": "stream",
     "text": [
      "/home/zoro/anaconda3/envs/penv/lib/python3.13/site-packages/xgboost/training.py:183: UserWarning: [18:23:37] WARNING: /workspace/src/learner.cc:738: \n",
      "Parameters: { \"use_label_encoder\" } are not used.\n",
      "\n",
      "  bst.update(dtrain, iteration=i, fobj=obj)\n"
     ]
    },
    {
     "name": "stdout",
     "output_type": "stream",
     "text": [
      "Training for target: PLACE 2nd START\n"
     ]
    },
    {
     "name": "stderr",
     "output_type": "stream",
     "text": [
      "/home/zoro/anaconda3/envs/penv/lib/python3.13/site-packages/xgboost/training.py:183: UserWarning: [18:23:41] WARNING: /workspace/src/learner.cc:738: \n",
      "Parameters: { \"use_label_encoder\" } are not used.\n",
      "\n",
      "  bst.update(dtrain, iteration=i, fobj=obj)\n"
     ]
    },
    {
     "name": "stdout",
     "output_type": "stream",
     "text": [
      "Training for target: PLACE 3rd START\n"
     ]
    },
    {
     "name": "stderr",
     "output_type": "stream",
     "text": [
      "/home/zoro/anaconda3/envs/penv/lib/python3.13/site-packages/xgboost/training.py:183: UserWarning: [18:23:44] WARNING: /workspace/src/learner.cc:738: \n",
      "Parameters: { \"use_label_encoder\" } are not used.\n",
      "\n",
      "  bst.update(dtrain, iteration=i, fobj=obj)\n"
     ]
    },
    {
     "name": "stdout",
     "output_type": "stream",
     "text": [
      "Training for target: PLACE 4th START\n"
     ]
    },
    {
     "name": "stderr",
     "output_type": "stream",
     "text": [
      "/home/zoro/anaconda3/envs/penv/lib/python3.13/site-packages/xgboost/training.py:183: UserWarning: [18:23:48] WARNING: /workspace/src/learner.cc:738: \n",
      "Parameters: { \"use_label_encoder\" } are not used.\n",
      "\n",
      "  bst.update(dtrain, iteration=i, fobj=obj)\n"
     ]
    },
    {
     "name": "stdout",
     "output_type": "stream",
     "text": [
      "\n",
      "✅ Accuracy comparison saved to 'model_accuracies.csv'\n",
      "📄 Classification reports saved to 'classification_reports.csv'\n"
     ]
    }
   ],
   "source": [
    "for target in target_cols:\n",
    "    print(f\"Training for target: {target}\")\n",
    "\n",
    "    # --- Logistic Regression ---\n",
    "    logreg = LogisticRegression(max_iter=1000, class_weight='balanced')\n",
    "    logreg.fit(X_train_scaled, y_train[target])\n",
    "    log_preds = logreg.predict(X_test_scaled)\n",
    "\n",
    "    acc_log = accuracy_score(y_test[target], log_preds)\n",
    "    logreg_accuracy[target] = acc_log\n",
    "    logreg_reports[target] = classification_report(y_test[target], log_preds, output_dict=True)\n",
    "\n",
    "    # --- XGBoost ---\n",
    "    xgb = XGBClassifier(use_label_encoder=False, eval_metric='logloss')\n",
    "    xgb.fit(X_train, y_train[target])  # No scaling needed\n",
    "    xgb_preds = xgb.predict(X_test)\n",
    "\n",
    "    acc_xgb = accuracy_score(y_test[target], xgb_preds)\n",
    "    xgb_accuracy[target] = acc_xgb\n",
    "    xgb_reports[target] = classification_report(y_test[target], xgb_preds, output_dict=True)\n",
    "\n",
    "# === Step 5: Output Accuracies ===\n",
    "accuracy_df = pd.DataFrame({\n",
    "    'Logistic Regression': logreg_accuracy,\n",
    "    'XGBoost': xgb_accuracy\n",
    "})\n",
    "accuracy_df.to_csv(\"model_accuracies.csv\")\n",
    "print(\"\\n✅ Accuracy comparison saved to 'model_accuracies.csv'\")\n",
    "\n",
    "# === Step 6: Save Classification Reports (Optional) ===\n",
    "def flatten_report(report_dict, model_name):\n",
    "    rows = []\n",
    "    for target, metrics in report_dict.items():\n",
    "        for cls in ['0', '1']:\n",
    "            row = {\n",
    "                \"Model\": model_name,\n",
    "                \"Target\": target,\n",
    "                \"Class\": cls,\n",
    "                \"Precision\": metrics[cls][\"precision\"],\n",
    "                \"Recall\": metrics[cls][\"recall\"],\n",
    "                \"F1-Score\": metrics[cls][\"f1-score\"],\n",
    "                \"Support\": metrics[cls][\"support\"]\n",
    "            }\n",
    "            rows.append(row)\n",
    "    return pd.DataFrame(rows)\n",
    "\n",
    "df_log = flatten_report(logreg_reports, \"LogisticRegression\")\n",
    "df_xgb = flatten_report(xgb_reports, \"XGBoost\")\n",
    "\n",
    "final_report = pd.concat([df_log, df_xgb], ignore_index=True)\n",
    "final_report.to_csv(\"classification_reports.csv\", index=False)\n",
    "print(\"📄 Classification reports saved to 'classification_reports.csv'\")\n"
   ]
  },
  {
   "cell_type": "code",
   "execution_count": null,
   "id": "c45a440e",
   "metadata": {},
   "outputs": [],
   "source": []
  }
 ],
 "metadata": {
  "kernelspec": {
   "display_name": "penv",
   "language": "python",
   "name": "python3"
  },
  "language_info": {
   "codemirror_mode": {
    "name": "ipython",
    "version": 3
   },
   "file_extension": ".py",
   "mimetype": "text/x-python",
   "name": "python",
   "nbconvert_exporter": "python",
   "pygments_lexer": "ipython3",
   "version": "3.13.0"
  }
 },
 "nbformat": 4,
 "nbformat_minor": 5
}
